{
 "cells": [
  {
   "cell_type": "markdown",
   "id": "9b0717be",
   "metadata": {},
   "source": [
    "# Health Insurance Cross Sell Prediction"
   ]
  },
  {
   "cell_type": "markdown",
   "id": "1c51123d",
   "metadata": {},
   "source": [
    "In this notebook, we will apply different Machine Learning methods to predict wether customers who hold a health insurance are also interested in taking a car insurance.\n",
    "\n",
    "For this purpose, we will use a dataset which is available on kaggle (https://www.kaggle.com/datasets/anmolkumar/health-insurance-cross-sell-prediction). It holds information about the customers in a csv file, as well as information about wether a customer is interested in a car insurance. The original dataset is already split into training and test data, however we will only use the training dataset here and treat it as if it was the complete dataset, since we do not have access to the target labels in the original test dataset.\n"
   ]
  },
  {
   "cell_type": "markdown",
   "id": "aa2bb2fb",
   "metadata": {},
   "source": [
    "## Libraries"
   ]
  },
  {
   "cell_type": "markdown",
   "id": "d0bbfb80",
   "metadata": {},
   "source": [
    "Before doing anything, we need to import the libraries needed for the task. We will use numpy and pandas, two standard libraries for working with data structures, as well as matplotlib and seaborn for visualisation and sklearn for providing Machine Learning methods:"
   ]
  },
  {
   "cell_type": "code",
   "execution_count": 19,
   "id": "24c182ff",
   "metadata": {},
   "outputs": [],
   "source": [
    "import numpy as np\n",
    "import pandas as pd\n",
    "import seaborn as sns\n",
    "import matplotlib.pyplot as plt \n",
    "import sklearn \n",
    "from tabulate import tabulate\n",
    "\n",
    "from pandas.api.types import CategoricalDtype, is_numeric_dtype\n",
    "from sklearn.model_selection import train_test_split\n",
    "\n",
    "from sklearn.linear_model import LogisticRegression\n",
    "from sklearn import svm\n",
    "from sklearn.ensemble import RandomForestClassifier\n",
    "from sklearn.naive_bayes import GaussianNB\n",
    "from sklearn.neighbors import KNeighborsClassifier"
   ]
  },
  {
   "cell_type": "markdown",
   "id": "d923645b",
   "metadata": {},
   "source": [
    "## Loading the data"
   ]
  },
  {
   "cell_type": "markdown",
   "id": "c9c1f536",
   "metadata": {},
   "source": [
    "An important step in any Machine Learning task is cleaning the data and bringing it into the correct form. In this case, the data is conveniently stored in a single csv file which we can open as a pandas dataframe. The resulting dataframe contains 381109 rows and 12 columns:"
   ]
  },
  {
   "cell_type": "code",
   "execution_count": 2,
   "id": "bb73415f",
   "metadata": {},
   "outputs": [
    {
     "data": {
      "text/plain": [
       "(381109, 12)"
      ]
     },
     "execution_count": 2,
     "metadata": {},
     "output_type": "execute_result"
    }
   ],
   "source": [
    "data_path = '/home/jonas/Desktop/health_insurance_cross_sell_prediction/data/data.csv'\n",
    "data = pd.read_csv(data_path)\n",
    "data.shape"
   ]
  },
  {
   "cell_type": "markdown",
   "id": "3bcd0854",
   "metadata": {},
   "source": [
    "Let's have a look at the first rows of the dataframe and the data type of each column:"
   ]
  },
  {
   "cell_type": "code",
   "execution_count": 3,
   "id": "86275325",
   "metadata": {},
   "outputs": [
    {
     "data": {
      "text/html": [
       "<div>\n",
       "<style scoped>\n",
       "    .dataframe tbody tr th:only-of-type {\n",
       "        vertical-align: middle;\n",
       "    }\n",
       "\n",
       "    .dataframe tbody tr th {\n",
       "        vertical-align: top;\n",
       "    }\n",
       "\n",
       "    .dataframe thead th {\n",
       "        text-align: right;\n",
       "    }\n",
       "</style>\n",
       "<table border=\"1\" class=\"dataframe\">\n",
       "  <thead>\n",
       "    <tr style=\"text-align: right;\">\n",
       "      <th></th>\n",
       "      <th>id</th>\n",
       "      <th>Gender</th>\n",
       "      <th>Age</th>\n",
       "      <th>Driving_License</th>\n",
       "      <th>Region_Code</th>\n",
       "      <th>Previously_Insured</th>\n",
       "      <th>Vehicle_Age</th>\n",
       "      <th>Vehicle_Damage</th>\n",
       "      <th>Annual_Premium</th>\n",
       "      <th>Policy_Sales_Channel</th>\n",
       "      <th>Vintage</th>\n",
       "      <th>Response</th>\n",
       "    </tr>\n",
       "  </thead>\n",
       "  <tbody>\n",
       "    <tr>\n",
       "      <th>0</th>\n",
       "      <td>1</td>\n",
       "      <td>Male</td>\n",
       "      <td>44</td>\n",
       "      <td>1</td>\n",
       "      <td>28.0</td>\n",
       "      <td>0</td>\n",
       "      <td>&gt; 2 Years</td>\n",
       "      <td>Yes</td>\n",
       "      <td>40454.0</td>\n",
       "      <td>26.0</td>\n",
       "      <td>217</td>\n",
       "      <td>1</td>\n",
       "    </tr>\n",
       "    <tr>\n",
       "      <th>1</th>\n",
       "      <td>2</td>\n",
       "      <td>Male</td>\n",
       "      <td>76</td>\n",
       "      <td>1</td>\n",
       "      <td>3.0</td>\n",
       "      <td>0</td>\n",
       "      <td>1-2 Year</td>\n",
       "      <td>No</td>\n",
       "      <td>33536.0</td>\n",
       "      <td>26.0</td>\n",
       "      <td>183</td>\n",
       "      <td>0</td>\n",
       "    </tr>\n",
       "    <tr>\n",
       "      <th>2</th>\n",
       "      <td>3</td>\n",
       "      <td>Male</td>\n",
       "      <td>47</td>\n",
       "      <td>1</td>\n",
       "      <td>28.0</td>\n",
       "      <td>0</td>\n",
       "      <td>&gt; 2 Years</td>\n",
       "      <td>Yes</td>\n",
       "      <td>38294.0</td>\n",
       "      <td>26.0</td>\n",
       "      <td>27</td>\n",
       "      <td>1</td>\n",
       "    </tr>\n",
       "    <tr>\n",
       "      <th>3</th>\n",
       "      <td>4</td>\n",
       "      <td>Male</td>\n",
       "      <td>21</td>\n",
       "      <td>1</td>\n",
       "      <td>11.0</td>\n",
       "      <td>1</td>\n",
       "      <td>&lt; 1 Year</td>\n",
       "      <td>No</td>\n",
       "      <td>28619.0</td>\n",
       "      <td>152.0</td>\n",
       "      <td>203</td>\n",
       "      <td>0</td>\n",
       "    </tr>\n",
       "    <tr>\n",
       "      <th>4</th>\n",
       "      <td>5</td>\n",
       "      <td>Female</td>\n",
       "      <td>29</td>\n",
       "      <td>1</td>\n",
       "      <td>41.0</td>\n",
       "      <td>1</td>\n",
       "      <td>&lt; 1 Year</td>\n",
       "      <td>No</td>\n",
       "      <td>27496.0</td>\n",
       "      <td>152.0</td>\n",
       "      <td>39</td>\n",
       "      <td>0</td>\n",
       "    </tr>\n",
       "  </tbody>\n",
       "</table>\n",
       "</div>"
      ],
      "text/plain": [
       "   id  Gender  Age  Driving_License  Region_Code  Previously_Insured  \\\n",
       "0   1    Male   44                1         28.0                   0   \n",
       "1   2    Male   76                1          3.0                   0   \n",
       "2   3    Male   47                1         28.0                   0   \n",
       "3   4    Male   21                1         11.0                   1   \n",
       "4   5  Female   29                1         41.0                   1   \n",
       "\n",
       "  Vehicle_Age Vehicle_Damage  Annual_Premium  Policy_Sales_Channel  Vintage  \\\n",
       "0   > 2 Years            Yes         40454.0                  26.0      217   \n",
       "1    1-2 Year             No         33536.0                  26.0      183   \n",
       "2   > 2 Years            Yes         38294.0                  26.0       27   \n",
       "3    < 1 Year             No         28619.0                 152.0      203   \n",
       "4    < 1 Year             No         27496.0                 152.0       39   \n",
       "\n",
       "   Response  \n",
       "0         1  \n",
       "1         0  \n",
       "2         1  \n",
       "3         0  \n",
       "4         0  "
      ]
     },
     "execution_count": 3,
     "metadata": {},
     "output_type": "execute_result"
    }
   ],
   "source": [
    "data.head()"
   ]
  },
  {
   "cell_type": "code",
   "execution_count": 4,
   "id": "71bdc06e",
   "metadata": {},
   "outputs": [
    {
     "data": {
      "text/plain": [
       "id                        int64\n",
       "Gender                   object\n",
       "Age                       int64\n",
       "Driving_License           int64\n",
       "Region_Code             float64\n",
       "Previously_Insured        int64\n",
       "Vehicle_Age              object\n",
       "Vehicle_Damage           object\n",
       "Annual_Premium          float64\n",
       "Policy_Sales_Channel    float64\n",
       "Vintage                   int64\n",
       "Response                  int64\n",
       "dtype: object"
      ]
     },
     "execution_count": 4,
     "metadata": {},
     "output_type": "execute_result"
    }
   ],
   "source": [
    "data.dtypes"
   ]
  },
  {
   "cell_type": "markdown",
   "id": "ee24e78a",
   "metadata": {},
   "source": [
    "## Data Cleaning"
   ]
  },
  {
   "cell_type": "markdown",
   "id": "137473fb",
   "metadata": {},
   "source": [
    "In the data description on the kaggle website the meaning of the individual columns is explained. Our task is to predict the variable 'Response', which is a binary variable indicating if a customer is interested in taking a car insurance or not. Some of the variables are not encoded correctly yet. We will now adjust the encoding of those variables so that they are better suitable for Machine Learning purposes:"
   ]
  },
  {
   "cell_type": "markdown",
   "id": "f1d373a4",
   "metadata": {},
   "source": [
    "Starting with the 'Gender' column, it is currently encoded as a string, however for the purposes of Machine Learning it would be more practicable as a numeric variable. Thus we change the type and values of the column accordingly:"
   ]
  },
  {
   "cell_type": "code",
   "execution_count": 5,
   "id": "d7d0431e",
   "metadata": {},
   "outputs": [],
   "source": [
    "data['Gender'] = data['Gender'].map({'Male': 0, 'Female': 1})"
   ]
  },
  {
   "cell_type": "markdown",
   "id": "ab7ecb6c",
   "metadata": {},
   "source": [
    "The 'Region Code' column holds an identifier for the customer's location. Treating it as a numerical variable would be unreasonable since it is not a quantitative measure. This variable is better represented as a string:"
   ]
  },
  {
   "cell_type": "code",
   "execution_count": 6,
   "id": "68063191",
   "metadata": {},
   "outputs": [],
   "source": [
    "data['Region_Code'] = data['Region_Code'].astype(str)"
   ]
  },
  {
   "cell_type": "markdown",
   "id": "6117e1f3",
   "metadata": {},
   "source": [
    "The age of a customer's vehicle would be useful as a numerical value. However in this case, we only have the information wether the car is less than one year, between one and two years, or more than two years old. "
   ]
  },
  {
   "cell_type": "code",
   "execution_count": 7,
   "id": "46b5b483",
   "metadata": {},
   "outputs": [
    {
     "data": {
      "text/plain": [
       "array(['1-2 Year', '< 1 Year', '> 2 Years'], dtype=object)"
      ]
     },
     "execution_count": 7,
     "metadata": {},
     "output_type": "execute_result"
    }
   ],
   "source": [
    "np.unique(data['Vehicle_Age'])"
   ]
  },
  {
   "cell_type": "markdown",
   "id": "870902f0",
   "metadata": {},
   "source": [
    "We cannot reasonably transform these into numerical values, however leaving them as strings would mean losing information. Instead, we can use the categorical datatype to preserve the ordering between values:"
   ]
  },
  {
   "cell_type": "code",
   "execution_count": 8,
   "id": "1e1ad9f0",
   "metadata": {},
   "outputs": [],
   "source": [
    "cat_type = CategoricalDtype(categories=['< 1 Year', '1-2 Year', '> 2 Years'], ordered=True)\n",
    "data['Vehicle_Age'] = data['Vehicle_Age'].astype(cat_type)"
   ]
  },
  {
   "cell_type": "markdown",
   "id": "14a2a105",
   "metadata": {},
   "source": [
    "Same as for the  gender information, the 'Vehicle Damage' column indicating if a car was damaged in the past is better suited in numerical form:"
   ]
  },
  {
   "cell_type": "code",
   "execution_count": 9,
   "id": "217042b8",
   "metadata": {},
   "outputs": [],
   "source": [
    "data['Vehicle_Damage'] = data['Vehicle_Damage'].map({'No': 0, 'Yes': 1})"
   ]
  },
  {
   "cell_type": "markdown",
   "id": "aaa89528",
   "metadata": {},
   "source": [
    "Same as for the regional code, the 'Policy_Sales_Channel' column is an identifier rather than a quantitative measure, ans hould therefore be changed to a string:"
   ]
  },
  {
   "cell_type": "code",
   "execution_count": 10,
   "id": "b2375084",
   "metadata": {},
   "outputs": [],
   "source": [
    "data['Policy_Sales_Channel'] = data['Policy_Sales_Channel'].astype(str)"
   ]
  },
  {
   "cell_type": "markdown",
   "id": "45feb771",
   "metadata": {},
   "source": [
    "Having performed the necessary data cleaning steps, our dataset now looks like this:"
   ]
  },
  {
   "cell_type": "code",
   "execution_count": 11,
   "id": "7a301438",
   "metadata": {},
   "outputs": [
    {
     "data": {
      "text/html": [
       "<div>\n",
       "<style scoped>\n",
       "    .dataframe tbody tr th:only-of-type {\n",
       "        vertical-align: middle;\n",
       "    }\n",
       "\n",
       "    .dataframe tbody tr th {\n",
       "        vertical-align: top;\n",
       "    }\n",
       "\n",
       "    .dataframe thead th {\n",
       "        text-align: right;\n",
       "    }\n",
       "</style>\n",
       "<table border=\"1\" class=\"dataframe\">\n",
       "  <thead>\n",
       "    <tr style=\"text-align: right;\">\n",
       "      <th></th>\n",
       "      <th>id</th>\n",
       "      <th>Gender</th>\n",
       "      <th>Age</th>\n",
       "      <th>Driving_License</th>\n",
       "      <th>Region_Code</th>\n",
       "      <th>Previously_Insured</th>\n",
       "      <th>Vehicle_Age</th>\n",
       "      <th>Vehicle_Damage</th>\n",
       "      <th>Annual_Premium</th>\n",
       "      <th>Policy_Sales_Channel</th>\n",
       "      <th>Vintage</th>\n",
       "      <th>Response</th>\n",
       "    </tr>\n",
       "  </thead>\n",
       "  <tbody>\n",
       "    <tr>\n",
       "      <th>0</th>\n",
       "      <td>1</td>\n",
       "      <td>0</td>\n",
       "      <td>44</td>\n",
       "      <td>1</td>\n",
       "      <td>28.0</td>\n",
       "      <td>0</td>\n",
       "      <td>&gt; 2 Years</td>\n",
       "      <td>1</td>\n",
       "      <td>40454.0</td>\n",
       "      <td>26.0</td>\n",
       "      <td>217</td>\n",
       "      <td>1</td>\n",
       "    </tr>\n",
       "    <tr>\n",
       "      <th>1</th>\n",
       "      <td>2</td>\n",
       "      <td>0</td>\n",
       "      <td>76</td>\n",
       "      <td>1</td>\n",
       "      <td>3.0</td>\n",
       "      <td>0</td>\n",
       "      <td>1-2 Year</td>\n",
       "      <td>0</td>\n",
       "      <td>33536.0</td>\n",
       "      <td>26.0</td>\n",
       "      <td>183</td>\n",
       "      <td>0</td>\n",
       "    </tr>\n",
       "    <tr>\n",
       "      <th>2</th>\n",
       "      <td>3</td>\n",
       "      <td>0</td>\n",
       "      <td>47</td>\n",
       "      <td>1</td>\n",
       "      <td>28.0</td>\n",
       "      <td>0</td>\n",
       "      <td>&gt; 2 Years</td>\n",
       "      <td>1</td>\n",
       "      <td>38294.0</td>\n",
       "      <td>26.0</td>\n",
       "      <td>27</td>\n",
       "      <td>1</td>\n",
       "    </tr>\n",
       "    <tr>\n",
       "      <th>3</th>\n",
       "      <td>4</td>\n",
       "      <td>0</td>\n",
       "      <td>21</td>\n",
       "      <td>1</td>\n",
       "      <td>11.0</td>\n",
       "      <td>1</td>\n",
       "      <td>&lt; 1 Year</td>\n",
       "      <td>0</td>\n",
       "      <td>28619.0</td>\n",
       "      <td>152.0</td>\n",
       "      <td>203</td>\n",
       "      <td>0</td>\n",
       "    </tr>\n",
       "    <tr>\n",
       "      <th>4</th>\n",
       "      <td>5</td>\n",
       "      <td>1</td>\n",
       "      <td>29</td>\n",
       "      <td>1</td>\n",
       "      <td>41.0</td>\n",
       "      <td>1</td>\n",
       "      <td>&lt; 1 Year</td>\n",
       "      <td>0</td>\n",
       "      <td>27496.0</td>\n",
       "      <td>152.0</td>\n",
       "      <td>39</td>\n",
       "      <td>0</td>\n",
       "    </tr>\n",
       "  </tbody>\n",
       "</table>\n",
       "</div>"
      ],
      "text/plain": [
       "   id  Gender  Age  Driving_License Region_Code  Previously_Insured  \\\n",
       "0   1       0   44                1        28.0                   0   \n",
       "1   2       0   76                1         3.0                   0   \n",
       "2   3       0   47                1        28.0                   0   \n",
       "3   4       0   21                1        11.0                   1   \n",
       "4   5       1   29                1        41.0                   1   \n",
       "\n",
       "  Vehicle_Age  Vehicle_Damage  Annual_Premium Policy_Sales_Channel  Vintage  \\\n",
       "0   > 2 Years               1         40454.0                 26.0      217   \n",
       "1    1-2 Year               0         33536.0                 26.0      183   \n",
       "2   > 2 Years               1         38294.0                 26.0       27   \n",
       "3    < 1 Year               0         28619.0                152.0      203   \n",
       "4    < 1 Year               0         27496.0                152.0       39   \n",
       "\n",
       "   Response  \n",
       "0         1  \n",
       "1         0  \n",
       "2         1  \n",
       "3         0  \n",
       "4         0  "
      ]
     },
     "execution_count": 11,
     "metadata": {},
     "output_type": "execute_result"
    }
   ],
   "source": [
    "data.head()"
   ]
  },
  {
   "cell_type": "code",
   "execution_count": 12,
   "id": "25acc2b4",
   "metadata": {},
   "outputs": [
    {
     "data": {
      "text/plain": [
       "id                         int64\n",
       "Gender                     int64\n",
       "Age                        int64\n",
       "Driving_License            int64\n",
       "Region_Code               object\n",
       "Previously_Insured         int64\n",
       "Vehicle_Age             category\n",
       "Vehicle_Damage             int64\n",
       "Annual_Premium           float64\n",
       "Policy_Sales_Channel      object\n",
       "Vintage                    int64\n",
       "Response                   int64\n",
       "dtype: object"
      ]
     },
     "execution_count": 12,
     "metadata": {},
     "output_type": "execute_result"
    }
   ],
   "source": [
    "data.dtypes"
   ]
  },
  {
   "cell_type": "markdown",
   "id": "eb62552d",
   "metadata": {},
   "source": [
    "## Splitting into training and test set"
   ]
  },
  {
   "cell_type": "markdown",
   "id": "d052ab25",
   "metadata": {},
   "source": [
    "Next, we will split the data set in a training set and a test set, so that we can evaluate our results later. Note that in the original kaggle dataset there is already a test set, however we don't have access to the labels there and therefore we have to create our own test set. We see that our training set holds 304887 rows, and our test set holds 76222 rows."
   ]
  },
  {
   "cell_type": "code",
   "execution_count": 13,
   "id": "3c6e2c34",
   "metadata": {},
   "outputs": [
    {
     "name": "stdout",
     "output_type": "stream",
     "text": [
      "(304887, 12)\n",
      "(76222, 12)\n"
     ]
    }
   ],
   "source": [
    "d_train, d_test = sklearn.model_selection.train_test_split(data, test_size=0.2)\n",
    "\n",
    "print(d_train.shape)\n",
    "print(d_test.shape)"
   ]
  },
  {
   "cell_type": "markdown",
   "id": "76b64322",
   "metadata": {},
   "source": [
    "## Exploratory Analysis"
   ]
  },
  {
   "cell_type": "markdown",
   "id": "b87e900c",
   "metadata": {},
   "source": [
    "As a first step of analysis it is often useful to visualize the distribution the individual variables. This can help\n",
    "getting an overview about the characteristics of the dataset and spotting potential pitfalls that might occur later in the analysis. Since in our case the explained variable is binary, we can additionally use a stacked histogram to get a sense for potential relationships between single explanatory variables and the explained variable:"
   ]
  },
  {
   "cell_type": "code",
   "execution_count": 14,
   "id": "b59ff1dc",
   "metadata": {},
   "outputs": [
    {
     "data": {
      "image/png": "[encoded data removed]",
      "text/plain": [
       "<Figure size 1200x1200 with 12 Axes>"
      ]
     },
     "metadata": {},
     "output_type": "display_data"
    }
   ],
   "source": [
    "# Split dataset by response variable\n",
    "d_train_0 = d_train[d_train['Response'] == 0]\n",
    "d_train_1 = d_train[d_train['Response'] == 1]\n",
    "\n",
    "# Set up plot matrix\n",
    "gridsize_y = 4\n",
    "gridsize_x = 3\n",
    "fig, axs = plt.subplots(gridsize_y, gridsize_x, figsize=(12,12))\n",
    "\n",
    "# Generate individual plots with axis label and legend\n",
    "for i,varname in enumerate(d_train.columns):\n",
    "    pos_y = i%gridsize_y\n",
    "    pos_x = int(i/gridsize_y)\n",
    "    axs[pos_y, pos_x].hist(x=[d_train_0[varname],d_train_1[varname]],\n",
    "                           histtype='barstacked',\n",
    "                           label=['not interested', 'interested'])\n",
    "    axs[pos_y, pos_x].set_xlabel(varname)\n",
    "    handles, labels = axs[pos_y, pos_x].get_legend_handles_labels() \n",
    "    axs[pos_y, pos_x].legend(handles[::-1], labels[::-1])\n",
    "    \n",
    "# Avoid overlapping text from axis labels\n",
    "axs[0,1].set_xticklabels([])\n",
    "axs[0,2].set_xticks([100000,300000,500000])\n",
    "axs[1,2].set_xticklabels([])\n",
    "fig.tight_layout()"
   ]
  },
  {
   "cell_type": "markdown",
   "id": "5786554b",
   "metadata": {},
   "source": [
    "We can see that some of the variables are quite uniformly distributed (e.g. 'Vintage'), whereas others are very heterogenous (e.g. 'Age', 'Policy Sales Channel'). As for potential pitfalls, we see that almost every customer in the dataset has a driver's license, meaning that even if the 'Driving_License' variable was a good predictor for our response variable, it would be of very limited use for the Machine Learning task.\n",
    "\n",
    "Moreover, the stacked histogram reveals that the two variables 'Previously_Insured' and 'Vehicle_Damage' have a visible impact on the response variable. This intuitively makes sense: A customer who already experienced car damage in the past will be more likely to take a car insurance, and a customer who already has a car insurance will be less likely to do so. Another relationship stands out that is less intuitive: Judging from the 'Vehicle_Age' variable, it appears that customers whose vehicle is between 1 and 2 years old are much more likely to take an insurance than customers whose car is less than one year old. Having a closer look, we see that customers whose car is older than 2 years have an even higher chance of being interested in an insurance. So it seems that the readiness to take an insurance increases with the age of the customer's car.\n"
   ]
  },
  {
   "cell_type": "code",
   "execution_count": 15,
   "id": "645fac18",
   "metadata": {},
   "outputs": [
    {
     "name": "stdout",
     "output_type": "stream",
     "text": [
      "0.04348321088104924\n",
      "0.17339079348646338\n",
      "0.2936991869918699\n"
     ]
    }
   ],
   "source": [
    "# Closer look at Vehicle_Age: Calculate proportions of interested customers for each value of Vehicle_Age\n",
    "\n",
    "# Split up dataframes by vehicle age\n",
    "d_new = d_train[d_train['Vehicle_Age']=='< 1 Year']\n",
    "d_middle = d_train[d_train['Vehicle_Age']=='1-2 Year']\n",
    "d_old = d_train[d_train['Vehicle_Age']=='> 2 Years']\n",
    "\n",
    "# Extract only interested customers\n",
    "d_new_1 = d_new[d_new['Response']==1]\n",
    "d_middle_1 = d_middle[d_middle['Response']==1]\n",
    "d_old_1 = d_old[d_old['Response']==1]\n",
    "\n",
    "# Calculate proportions\n",
    "interested_chance_new = len(d_new_1)/len(d_new)\n",
    "interested_chance_middle = len(d_middle_1)/len(d_middle)\n",
    "interested_chance_old = len(d_old_1)/len(d_old)\n",
    "\n",
    "print(interested_chance_new)\n",
    "print(interested_chance_middle)\n",
    "print(interested_chance_old)"
   ]
  },
  {
   "cell_type": "markdown",
   "id": "3fe5969e",
   "metadata": {},
   "source": [
    "## Data Preparation II"
   ]
  },
  {
   "cell_type": "markdown",
   "id": "d73712cc",
   "metadata": {},
   "source": [
    "To be able to use a nominal variable in a Machine Learning model, it is possible to transform it into a set of binary variables by adding a new binary variable for each state of the original variable, indicating if the variable for this sample has this state or not. This process is known as one-hot encoding. We will now one-hot encode the 'Vehicle_Age' variable. The other two nominal variables 'Region_Encoding' and 'Policy_Sales_Channel' we will not use in the further analysis, since one-hot encoding them would increase the number of variables by a huge amount. We also will exclude the 'Driving_License' variable for the reasons described above and the 'id' variable since it does not contain meaningful information for out task. Furthermore, we will rescale the continuous variables 'Annual_Premium' and 'Age' logarithmically to make them more normally distributed, and we subsequently apply a minmax scaling to all contiuous variables.\n",
    "\n",
    "The variables are then split up into the predictors and the target variable."
   ]
  },
  {
   "cell_type": "code",
   "execution_count": 83,
   "id": "4bbd8d65",
   "metadata": {},
   "outputs": [],
   "source": [
    "# One-Hot encode Vehicle Age\n",
    "d_train_onehot = pd.get_dummies(data=d_train, columns=['Vehicle_Age'], prefix='V_Age')\n",
    "\n",
    "def scale_log(x):\n",
    "    x_rescaled = np.log(x)\n",
    "    return x_rescaled\n",
    "\n",
    "def scale_minmax(x):\n",
    "    x_rescaled = (x - np.min(x)) / (np.max(x) - np.min(x))\n",
    "    return x_rescaled\n",
    "\n",
    "# Rescale columns\n",
    "d_train_onehot['Annual_Premium'] = scale_log(d_train_onehot['Annual_Premium'])\n",
    "d_train_onehot['Age'] = scale_log(d_train_onehot['Age'])\n",
    "d_train_onehot['Annual_Premium'] = scale_minmax(d_train_onehot['Annual_Premium'])\n",
    "d_train_onehot['Age'] = scale_minmax(d_train_onehot['Age'])\n",
    "d_train_onehot['Vintage'] = scale_minmax(d_train_onehot['Vintage'])\n",
    "\n",
    "\n",
    "cols_to_drop = ['id', 'Driving_License', 'Region_Code', \n",
    "                'Policy_Sales_Channel','Response']\n",
    "\n",
    "\n",
    "# Split into features and labels\n",
    "X_train = d_train_onehot.drop(cols_to_drop, axis=1) \n",
    "y_train = d_train_onehot['Response']"
   ]
  },
  {
   "cell_type": "markdown",
   "id": "c20eed1a",
   "metadata": {},
   "source": [
    "## Train models"
   ]
  },
  {
   "cell_type": "markdown",
   "id": "24b6a92b",
   "metadata": {},
   "source": [
    "Having prepared the training data adequately, we will now apply a number of common classification methods to our task. Each of the classifiers can be trained with just two lines of code using the scikit-learn library. I will shortly explain each of the classifiers below."
   ]
  },
  {
   "cell_type": "markdown",
   "id": "b850fd4c",
   "metadata": {},
   "source": [
    "### Logistic Regression"
   ]
  },
  {
   "cell_type": "markdown",
   "id": "d3875aa9",
   "metadata": {},
   "source": [
    "\n",
    "Since our target variable is binary rather than continuous, we cannot use a linear regression to model it. Instead, the logistic regression is used in such cases. It models the log-odds of an event as a linear combination of the predictors. The log-odds is a function that maps probability values to real numbers. The resulting probabilities can then be used to predict the target variable by defining a treshold probability and classifying all observations above that treshold as positive and all observations below as negative. The estimation of the parameters is usually done by the maximum-likelihood method.\n",
    "\n",
    "Furthermore, we use balanced class weights make sure that the model doesn't only optimize the majority class at the cost of the minority class.\n"
   ]
  },
  {
   "cell_type": "code",
   "execution_count": 84,
   "id": "e2fb3c45",
   "metadata": {},
   "outputs": [],
   "source": [
    "lr = LogisticRegression(class_weight='balanced')\n",
    "lr_clf = lr.fit(X_train, y_train)"
   ]
  },
  {
   "cell_type": "markdown",
   "id": "da470554",
   "metadata": {},
   "source": [
    "### Support Vector Machine"
   ]
  },
  {
   "cell_type": "markdown",
   "id": "750efc0d",
   "metadata": {},
   "source": [
    "Support Vector Machines construct a hyperplane that divides the two classes by maximizing the hyperplane's distance to the nearest training samples. Training the model then means finding the parameters of the hyperplane. Once trained, the hyperplane then serves as a decision boundary for the prediction on new samples."
   ]
  },
  {
   "cell_type": "code",
   "execution_count": null,
   "id": "c248fb8f",
   "metadata": {},
   "outputs": [],
   "source": [
    "# Note: Training of the SVM on a local machine can take several hours\n",
    "svm_clf = svm.SVC(class_weight='balanced')\n",
    "svm_clf.fit(X_train, y_train) "
   ]
  },
  {
   "cell_type": "markdown",
   "id": "6ccf7650",
   "metadata": {},
   "source": [
    "### Random Forest"
   ]
  },
  {
   "cell_type": "markdown",
   "id": "101ec375",
   "metadata": {},
   "source": [
    "Random Forests are an ensemble method, meaning that they fit multiple classifiers and then generate the final prediction by averaging among the classifiers. In the case of random Forest, those classifiers are decision trees that are fitted on different subsets of the training data. Decision trees aim to subsequently split the data based on an attribute value such that the different classes are separated best. "
   ]
  },
  {
   "cell_type": "code",
   "execution_count": 85,
   "id": "e4a0fc6d",
   "metadata": {},
   "outputs": [
    {
     "data": {
      "text/html": [
       "<style>#sk-container-id-14 {color: black;background-color: white;}#sk-container-id-14 pre{padding: 0;}#sk-container-id-14 div.sk-toggleable {background-color: white;}#sk-container-id-14 label.sk-toggleable__label {cursor: pointer;display: block;width: 100%;margin-bottom: 0;padding: 0.3em;box-sizing: border-box;text-align: center;}#sk-container-id-14 label.sk-toggleable__label-arrow:before {content: \"▸\";float: left;margin-right: 0.25em;color: #696969;}#sk-container-id-14 label.sk-toggleable__label-arrow:hover:before {color: black;}#sk-container-id-14 div.sk-estimator:hover label.sk-toggleable__label-arrow:before {color: black;}#sk-container-id-14 div.sk-toggleable__content {max-height: 0;max-width: 0;overflow: hidden;text-align: left;background-color: #f0f8ff;}#sk-container-id-14 div.sk-toggleable__content pre {margin: 0.2em;color: black;border-radius: 0.25em;background-color: #f0f8ff;}#sk-container-id-14 input.sk-toggleable__control:checked~div.sk-toggleable__content {max-height: 200px;max-width: 100%;overflow: auto;}#sk-container-id-14 input.sk-toggleable__control:checked~label.sk-toggleable__label-arrow:before {content: \"▾\";}#sk-container-id-14 div.sk-estimator input.sk-toggleable__control:checked~label.sk-toggleable__label {background-color: #d4ebff;}#sk-container-id-14 div.sk-label input.sk-toggleable__control:checked~label.sk-toggleable__label {background-color: #d4ebff;}#sk-container-id-14 input.sk-hidden--visually {border: 0;clip: rect(1px 1px 1px 1px);clip: rect(1px, 1px, 1px, 1px);height: 1px;margin: -1px;overflow: hidden;padding: 0;position: absolute;width: 1px;}#sk-container-id-14 div.sk-estimator {font-family: monospace;background-color: #f0f8ff;border: 1px dotted black;border-radius: 0.25em;box-sizing: border-box;margin-bottom: 0.5em;}#sk-container-id-14 div.sk-estimator:hover {background-color: #d4ebff;}#sk-container-id-14 div.sk-parallel-item::after {content: \"\";width: 100%;border-bottom: 1px solid gray;flex-grow: 1;}#sk-container-id-14 div.sk-label:hover label.sk-toggleable__label {background-color: #d4ebff;}#sk-container-id-14 div.sk-serial::before {content: \"\";position: absolute;border-left: 1px solid gray;box-sizing: border-box;top: 0;bottom: 0;left: 50%;z-index: 0;}#sk-container-id-14 div.sk-serial {display: flex;flex-direction: column;align-items: center;background-color: white;padding-right: 0.2em;padding-left: 0.2em;position: relative;}#sk-container-id-14 div.sk-item {position: relative;z-index: 1;}#sk-container-id-14 div.sk-parallel {display: flex;align-items: stretch;justify-content: center;background-color: white;position: relative;}#sk-container-id-14 div.sk-item::before, #sk-container-id-14 div.sk-parallel-item::before {content: \"\";position: absolute;border-left: 1px solid gray;box-sizing: border-box;top: 0;bottom: 0;left: 50%;z-index: -1;}#sk-container-id-14 div.sk-parallel-item {display: flex;flex-direction: column;z-index: 1;position: relative;background-color: white;}#sk-container-id-14 div.sk-parallel-item:first-child::after {align-self: flex-end;width: 50%;}#sk-container-id-14 div.sk-parallel-item:last-child::after {align-self: flex-start;width: 50%;}#sk-container-id-14 div.sk-parallel-item:only-child::after {width: 0;}#sk-container-id-14 div.sk-dashed-wrapped {border: 1px dashed gray;margin: 0 0.4em 0.5em 0.4em;box-sizing: border-box;padding-bottom: 0.4em;background-color: white;}#sk-container-id-14 div.sk-label label {font-family: monospace;font-weight: bold;display: inline-block;line-height: 1.2em;}#sk-container-id-14 div.sk-label-container {text-align: center;}#sk-container-id-14 div.sk-container {/* jupyter's `normalize.less` sets `[hidden] { display: none; }` but bootstrap.min.css set `[hidden] { display: none !important; }` so we also need the `!important` here to be able to override the default hidden behavior on the sphinx rendered scikit-learn.org. See: https://github.com/scikit-learn/scikit-learn/issues/21755 */display: inline-block !important;position: relative;}#sk-container-id-14 div.sk-text-repr-fallback {display: none;}</style><div id=\"sk-container-id-14\" class=\"sk-top-container\"><div class=\"sk-text-repr-fallback\"><pre>RandomForestClassifier(class_weight=&#x27;balanced&#x27;)</pre><b>In a Jupyter environment, please rerun this cell to show the HTML representation or trust the notebook. <br />On GitHub, the HTML representation is unable to render, please try loading this page with nbviewer.org.</b></div><div class=\"sk-container\" hidden><div class=\"sk-item\"><div class=\"sk-estimator sk-toggleable\"><input class=\"sk-toggleable__control sk-hidden--visually\" id=\"sk-estimator-id-14\" type=\"checkbox\" checked><label for=\"sk-estimator-id-14\" class=\"sk-toggleable__label sk-toggleable__label-arrow\">RandomForestClassifier</label><div class=\"sk-toggleable__content\"><pre>RandomForestClassifier(class_weight=&#x27;balanced&#x27;)</pre></div></div></div></div></div>"
      ],
      "text/plain": [
       "RandomForestClassifier(class_weight='balanced')"
      ]
     },
     "execution_count": 85,
     "metadata": {},
     "output_type": "execute_result"
    }
   ],
   "source": [
    "rf_clf = RandomForestClassifier(class_weight='balanced')\n",
    "rf_clf.fit(X_train, y_train)"
   ]
  },
  {
   "cell_type": "markdown",
   "id": "887d1285",
   "metadata": {},
   "source": [
    "### Naive Bayes"
   ]
  },
  {
   "cell_type": "markdown",
   "id": "def71654",
   "metadata": {},
   "source": [
    "The Naive Bayes method estimates the probability of the target variable via maximum likelihood estimation. It assumes that the predictor variables are all independent of each other which reduces the number of parameters considerably. Because of this underlying assumption, it is not possible to adjust class weights for this method. One could alternatively reduce the class imbalance by resampling from the minority samples. For now, we will keep using the same training data for each classifier to maintain comparability."
   ]
  },
  {
   "cell_type": "code",
   "execution_count": 86,
   "id": "83d4258c",
   "metadata": {},
   "outputs": [
    {
     "data": {
      "text/html": [
       "<style>#sk-container-id-15 {color: black;background-color: white;}#sk-container-id-15 pre{padding: 0;}#sk-container-id-15 div.sk-toggleable {background-color: white;}#sk-container-id-15 label.sk-toggleable__label {cursor: pointer;display: block;width: 100%;margin-bottom: 0;padding: 0.3em;box-sizing: border-box;text-align: center;}#sk-container-id-15 label.sk-toggleable__label-arrow:before {content: \"▸\";float: left;margin-right: 0.25em;color: #696969;}#sk-container-id-15 label.sk-toggleable__label-arrow:hover:before {color: black;}#sk-container-id-15 div.sk-estimator:hover label.sk-toggleable__label-arrow:before {color: black;}#sk-container-id-15 div.sk-toggleable__content {max-height: 0;max-width: 0;overflow: hidden;text-align: left;background-color: #f0f8ff;}#sk-container-id-15 div.sk-toggleable__content pre {margin: 0.2em;color: black;border-radius: 0.25em;background-color: #f0f8ff;}#sk-container-id-15 input.sk-toggleable__control:checked~div.sk-toggleable__content {max-height: 200px;max-width: 100%;overflow: auto;}#sk-container-id-15 input.sk-toggleable__control:checked~label.sk-toggleable__label-arrow:before {content: \"▾\";}#sk-container-id-15 div.sk-estimator input.sk-toggleable__control:checked~label.sk-toggleable__label {background-color: #d4ebff;}#sk-container-id-15 div.sk-label input.sk-toggleable__control:checked~label.sk-toggleable__label {background-color: #d4ebff;}#sk-container-id-15 input.sk-hidden--visually {border: 0;clip: rect(1px 1px 1px 1px);clip: rect(1px, 1px, 1px, 1px);height: 1px;margin: -1px;overflow: hidden;padding: 0;position: absolute;width: 1px;}#sk-container-id-15 div.sk-estimator {font-family: monospace;background-color: #f0f8ff;border: 1px dotted black;border-radius: 0.25em;box-sizing: border-box;margin-bottom: 0.5em;}#sk-container-id-15 div.sk-estimator:hover {background-color: #d4ebff;}#sk-container-id-15 div.sk-parallel-item::after {content: \"\";width: 100%;border-bottom: 1px solid gray;flex-grow: 1;}#sk-container-id-15 div.sk-label:hover label.sk-toggleable__label {background-color: #d4ebff;}#sk-container-id-15 div.sk-serial::before {content: \"\";position: absolute;border-left: 1px solid gray;box-sizing: border-box;top: 0;bottom: 0;left: 50%;z-index: 0;}#sk-container-id-15 div.sk-serial {display: flex;flex-direction: column;align-items: center;background-color: white;padding-right: 0.2em;padding-left: 0.2em;position: relative;}#sk-container-id-15 div.sk-item {position: relative;z-index: 1;}#sk-container-id-15 div.sk-parallel {display: flex;align-items: stretch;justify-content: center;background-color: white;position: relative;}#sk-container-id-15 div.sk-item::before, #sk-container-id-15 div.sk-parallel-item::before {content: \"\";position: absolute;border-left: 1px solid gray;box-sizing: border-box;top: 0;bottom: 0;left: 50%;z-index: -1;}#sk-container-id-15 div.sk-parallel-item {display: flex;flex-direction: column;z-index: 1;position: relative;background-color: white;}#sk-container-id-15 div.sk-parallel-item:first-child::after {align-self: flex-end;width: 50%;}#sk-container-id-15 div.sk-parallel-item:last-child::after {align-self: flex-start;width: 50%;}#sk-container-id-15 div.sk-parallel-item:only-child::after {width: 0;}#sk-container-id-15 div.sk-dashed-wrapped {border: 1px dashed gray;margin: 0 0.4em 0.5em 0.4em;box-sizing: border-box;padding-bottom: 0.4em;background-color: white;}#sk-container-id-15 div.sk-label label {font-family: monospace;font-weight: bold;display: inline-block;line-height: 1.2em;}#sk-container-id-15 div.sk-label-container {text-align: center;}#sk-container-id-15 div.sk-container {/* jupyter's `normalize.less` sets `[hidden] { display: none; }` but bootstrap.min.css set `[hidden] { display: none !important; }` so we also need the `!important` here to be able to override the default hidden behavior on the sphinx rendered scikit-learn.org. See: https://github.com/scikit-learn/scikit-learn/issues/21755 */display: inline-block !important;position: relative;}#sk-container-id-15 div.sk-text-repr-fallback {display: none;}</style><div id=\"sk-container-id-15\" class=\"sk-top-container\"><div class=\"sk-text-repr-fallback\"><pre>GaussianNB()</pre><b>In a Jupyter environment, please rerun this cell to show the HTML representation or trust the notebook. <br />On GitHub, the HTML representation is unable to render, please try loading this page with nbviewer.org.</b></div><div class=\"sk-container\" hidden><div class=\"sk-item\"><div class=\"sk-estimator sk-toggleable\"><input class=\"sk-toggleable__control sk-hidden--visually\" id=\"sk-estimator-id-15\" type=\"checkbox\" checked><label for=\"sk-estimator-id-15\" class=\"sk-toggleable__label sk-toggleable__label-arrow\">GaussianNB</label><div class=\"sk-toggleable__content\"><pre>GaussianNB()</pre></div></div></div></div></div>"
      ],
      "text/plain": [
       "GaussianNB()"
      ]
     },
     "execution_count": 86,
     "metadata": {},
     "output_type": "execute_result"
    }
   ],
   "source": [
    "gnb_clf = GaussianNB()\n",
    "gnb_clf.fit(X_train, y_train)"
   ]
  },
  {
   "cell_type": "markdown",
   "id": "f1a39fbb",
   "metadata": {},
   "source": [
    "### K Nearest Neighbor"
   ]
  },
  {
   "cell_type": "markdown",
   "id": "32d206d3",
   "metadata": {},
   "source": [
    "K Nearest Neighbor is a very straightforward classifier that simply determines the class of an unknown sample by taking the majority vote of the classes from the k nearest training samples, according to a given distance metric. There is again no parameter for the class weights. We will instead assign weights to the training sample based on their distance to the  target sample, so that samples further away contribute less. This is not the same mechanism as in the methods above, but might still reduce the impact of the class imbalance to some degree."
   ]
  },
  {
   "cell_type": "code",
   "execution_count": 87,
   "id": "f6f7b1f5",
   "metadata": {},
   "outputs": [
    {
     "data": {
      "text/html": [
       "<style>#sk-container-id-16 {color: black;background-color: white;}#sk-container-id-16 pre{padding: 0;}#sk-container-id-16 div.sk-toggleable {background-color: white;}#sk-container-id-16 label.sk-toggleable__label {cursor: pointer;display: block;width: 100%;margin-bottom: 0;padding: 0.3em;box-sizing: border-box;text-align: center;}#sk-container-id-16 label.sk-toggleable__label-arrow:before {content: \"▸\";float: left;margin-right: 0.25em;color: #696969;}#sk-container-id-16 label.sk-toggleable__label-arrow:hover:before {color: black;}#sk-container-id-16 div.sk-estimator:hover label.sk-toggleable__label-arrow:before {color: black;}#sk-container-id-16 div.sk-toggleable__content {max-height: 0;max-width: 0;overflow: hidden;text-align: left;background-color: #f0f8ff;}#sk-container-id-16 div.sk-toggleable__content pre {margin: 0.2em;color: black;border-radius: 0.25em;background-color: #f0f8ff;}#sk-container-id-16 input.sk-toggleable__control:checked~div.sk-toggleable__content {max-height: 200px;max-width: 100%;overflow: auto;}#sk-container-id-16 input.sk-toggleable__control:checked~label.sk-toggleable__label-arrow:before {content: \"▾\";}#sk-container-id-16 div.sk-estimator input.sk-toggleable__control:checked~label.sk-toggleable__label {background-color: #d4ebff;}#sk-container-id-16 div.sk-label input.sk-toggleable__control:checked~label.sk-toggleable__label {background-color: #d4ebff;}#sk-container-id-16 input.sk-hidden--visually {border: 0;clip: rect(1px 1px 1px 1px);clip: rect(1px, 1px, 1px, 1px);height: 1px;margin: -1px;overflow: hidden;padding: 0;position: absolute;width: 1px;}#sk-container-id-16 div.sk-estimator {font-family: monospace;background-color: #f0f8ff;border: 1px dotted black;border-radius: 0.25em;box-sizing: border-box;margin-bottom: 0.5em;}#sk-container-id-16 div.sk-estimator:hover {background-color: #d4ebff;}#sk-container-id-16 div.sk-parallel-item::after {content: \"\";width: 100%;border-bottom: 1px solid gray;flex-grow: 1;}#sk-container-id-16 div.sk-label:hover label.sk-toggleable__label {background-color: #d4ebff;}#sk-container-id-16 div.sk-serial::before {content: \"\";position: absolute;border-left: 1px solid gray;box-sizing: border-box;top: 0;bottom: 0;left: 50%;z-index: 0;}#sk-container-id-16 div.sk-serial {display: flex;flex-direction: column;align-items: center;background-color: white;padding-right: 0.2em;padding-left: 0.2em;position: relative;}#sk-container-id-16 div.sk-item {position: relative;z-index: 1;}#sk-container-id-16 div.sk-parallel {display: flex;align-items: stretch;justify-content: center;background-color: white;position: relative;}#sk-container-id-16 div.sk-item::before, #sk-container-id-16 div.sk-parallel-item::before {content: \"\";position: absolute;border-left: 1px solid gray;box-sizing: border-box;top: 0;bottom: 0;left: 50%;z-index: -1;}#sk-container-id-16 div.sk-parallel-item {display: flex;flex-direction: column;z-index: 1;position: relative;background-color: white;}#sk-container-id-16 div.sk-parallel-item:first-child::after {align-self: flex-end;width: 50%;}#sk-container-id-16 div.sk-parallel-item:last-child::after {align-self: flex-start;width: 50%;}#sk-container-id-16 div.sk-parallel-item:only-child::after {width: 0;}#sk-container-id-16 div.sk-dashed-wrapped {border: 1px dashed gray;margin: 0 0.4em 0.5em 0.4em;box-sizing: border-box;padding-bottom: 0.4em;background-color: white;}#sk-container-id-16 div.sk-label label {font-family: monospace;font-weight: bold;display: inline-block;line-height: 1.2em;}#sk-container-id-16 div.sk-label-container {text-align: center;}#sk-container-id-16 div.sk-container {/* jupyter's `normalize.less` sets `[hidden] { display: none; }` but bootstrap.min.css set `[hidden] { display: none !important; }` so we also need the `!important` here to be able to override the default hidden behavior on the sphinx rendered scikit-learn.org. See: https://github.com/scikit-learn/scikit-learn/issues/21755 */display: inline-block !important;position: relative;}#sk-container-id-16 div.sk-text-repr-fallback {display: none;}</style><div id=\"sk-container-id-16\" class=\"sk-top-container\"><div class=\"sk-text-repr-fallback\"><pre>KNeighborsClassifier(weights=&#x27;distance&#x27;)</pre><b>In a Jupyter environment, please rerun this cell to show the HTML representation or trust the notebook. <br />On GitHub, the HTML representation is unable to render, please try loading this page with nbviewer.org.</b></div><div class=\"sk-container\" hidden><div class=\"sk-item\"><div class=\"sk-estimator sk-toggleable\"><input class=\"sk-toggleable__control sk-hidden--visually\" id=\"sk-estimator-id-16\" type=\"checkbox\" checked><label for=\"sk-estimator-id-16\" class=\"sk-toggleable__label sk-toggleable__label-arrow\">KNeighborsClassifier</label><div class=\"sk-toggleable__content\"><pre>KNeighborsClassifier(weights=&#x27;distance&#x27;)</pre></div></div></div></div></div>"
      ],
      "text/plain": [
       "KNeighborsClassifier(weights='distance')"
      ]
     },
     "execution_count": 87,
     "metadata": {},
     "output_type": "execute_result"
    }
   ],
   "source": [
    "knn_clf = KNeighborsClassifier(weights='distance')\n",
    "knn_clf.fit(X_train, y_train)"
   ]
  },
  {
   "cell_type": "markdown",
   "id": "d7a7b83d",
   "metadata": {},
   "source": [
    "## Evaluation"
   ]
  },
  {
   "cell_type": "markdown",
   "id": "78ff127e",
   "metadata": {},
   "source": [
    "Let's see how well the different models perform on unseen test data. For this, we have to one-hot encode, rescale and split the test data in the same way as we did with the training data:"
   ]
  },
  {
   "cell_type": "code",
   "execution_count": 89,
   "id": "e90e7684",
   "metadata": {},
   "outputs": [],
   "source": [
    "# One-Hot encode Vehicle Age\n",
    "d_test_onehot = pd.get_dummies(data=d_test, columns=['Vehicle_Age'], prefix='V_Age')\n",
    "\n",
    "def scale_log(x):\n",
    "    x_rescaled = np.log(x)\n",
    "    return x_rescaled\n",
    "\n",
    "def scale_minmax(x):\n",
    "    x_rescaled = (x - np.min(x)) / (np.max(x) - np.min(x))\n",
    "    return x_rescaled\n",
    "\n",
    "# Rescale columns\n",
    "d_test_onehot['Annual_Premium'] = scale_log(d_test_onehot['Annual_Premium'])\n",
    "d_test_onehot['Age'] = scale_log(d_test_onehot['Age'])\n",
    "d_test_onehot['Annual_Premium'] = scale_minmax(d_test_onehot['Annual_Premium'])\n",
    "d_test_onehot['Age'] = scale_minmax(d_test_onehot['Age'])\n",
    "d_test_onehot['Vintage'] = scale_minmax(d_test_onehot['Vintage'])\n",
    "\n",
    "cols_to_drop = ['id', 'Driving_License', 'Region_Code', \n",
    "                'Policy_Sales_Channel','Response']\n",
    "\n",
    "# Split into features and labels\n",
    "X_test = d_test_onehot.drop(cols_to_drop, axis=1) \n",
    "y_test = d_test_onehot['Response']"
   ]
  },
  {
   "cell_type": "markdown",
   "id": "e2be9d64",
   "metadata": {},
   "source": [
    "We will calculate the accuracy, the precision and the recall of each model. The accuracy measures the fraction of the samples that were classified correctly. The precision measures the fraction of the predicted positives that were classified correctly, and the recall measures the fraction of the true positives that were classified correctly. It is generally useful to report both precision and recall to reveal different aspects of the model, for example how biased the model is towards predicting the majority class."
   ]
  },
  {
   "cell_type": "code",
   "execution_count": 90,
   "id": "eefe5a3a",
   "metadata": {},
   "outputs": [
    {
     "name": "stdout",
     "output_type": "stream",
     "text": [
      "Classifier             Accuracy    Precision    Recall\n",
      "-------------------  ----------  -----------  --------\n",
      "Logistic Regression    0.638097     0.250953  0.971238\n",
      "Random Forest          0.84965      0.295873  0.156761\n",
      "Naive Bayes            0.718887     0.282919  0.830291\n",
      "K Nearest Neighbor     0.846698     0.304273  0.186691\n"
     ]
    }
   ],
   "source": [
    "def get_performance_metrics(clf, X, y):\n",
    "    \"\"\" Calculate performance metrics of a trained classifier\"\"\"\n",
    "    y_pred = clf.predict(X)\n",
    "\n",
    "    mean_acc = clf.score(X,y)\n",
    "    precision = precision_score(y, y_pred)\n",
    "    recall = recall_score(y, y_pred)\n",
    "    \n",
    "    return mean_acc, precision, recall\n",
    "\n",
    "\n",
    "\n",
    "mean_acc_lr, prec_lr, rec_lr = get_performance_metrics(lr_clf, X_test, y_test)\n",
    "# Note: Evaluating the SVM on a local machine can take several minutes\n",
    "mean_acc_svm, prec_svm, rec_svm = get_performance_metrics(svm_clf, X_test, y_test)\n",
    "mean_acc_rf, prec_rf, rec_rf = get_performance_metrics(rf_clf, X_test, y_test)\n",
    "mean_acc_gnb, prec_gnb, rec_gnb = get_performance_metrics(gnb_clf, X_test, y_test)\n",
    "mean_acc_knn, prec_knn, rec_knn = get_performance_metrics(knn_clf, X_test, y_test)\n",
    "\n",
    "\n",
    "performance_metrics = [\n",
    "    ['Logistic Regression', mean_acc_lr, prec_lr, rec_lr],\n",
    "    ['Support Vector Machine', mean_acc_svm, prec_svm, rec_svm],\n",
    "    ['Random Forest', mean_acc_rf, prec_rf, rec_rf],\n",
    "    ['Naive Bayes', mean_acc_gnb, prec_gnb, rec_gnb],\n",
    "    ['K Nearest Neighbor', mean_acc_knn, prec_knn, rec_knn]\n",
    "]\n",
    "\n",
    "head = ['Classifier', 'Accuracy', 'Precision', 'Recall']\n",
    "\n",
    "print(tabulate(performance_metrics, headers=head))"
   ]
  },
  {
   "cell_type": "code",
   "execution_count": null,
   "id": "bc8ea817",
   "metadata": {},
   "outputs": [],
   "source": []
  },
  {
   "cell_type": "code",
   "execution_count": null,
   "id": "670ae10f",
   "metadata": {},
   "outputs": [],
   "source": []
  },
  {
   "cell_type": "code",
   "execution_count": null,
   "id": "5b5b2dc8",
   "metadata": {},
   "outputs": [],
   "source": [
    "\n"
   ]
  },
  {
   "cell_type": "code",
   "execution_count": null,
   "id": "dda11445",
   "metadata": {},
   "outputs": [],
   "source": []
  },
  {
   "cell_type": "code",
   "execution_count": null,
   "id": "bc0e4cf4",
   "metadata": {},
   "outputs": [],
   "source": []
  },
  {
   "cell_type": "markdown",
   "id": "35682aa8",
   "metadata": {},
   "source": [
    "## Conclusion"
   ]
  },
  {
   "cell_type": "markdown",
   "id": "7049b6ee",
   "metadata": {},
   "source": [
    "mostly young age\n",
    "not many people with vehicles older than 2 years\n",
    "almost everybody has a driving license\n",
    "more males than females\n",
    "more people already have a car insurance than not\n",
    "number of days very equally distributed however none longer than 300\n",
    "About 20% of people are interested in taking a car insurance\n",
    "\n",
    "Gender seems to have some correlation with Response\n",
    "Only people who not yet have a vehicle insurance seem to be interested which makes sense\n",
    "older people semm to be more interested than younger people\n",
    "people whose car is 1-2 years old seem to be more interested than people with older or newer cars. This does not make sense...\n",
    "People who got their car damaged in the past are much more likely to be interested\n",
    "\n",
    "perform pca?\n",
    "normalize and scale?\n",
    "TODO: Set class weights?\n",
    "Are there unused imports?\n",
    "Mention DNNs"
   ]
  },
  {
   "cell_type": "markdown",
   "id": "a8368238",
   "metadata": {},
   "source": [
    "Possible next steps: Hyperparameter tuning via Grid Search (increases runtime)\n",
    "Train a DNN (increases runtime and hardware requirement)\n"
   ]
  }
 ],
 "metadata": {
  "kernelspec": {
   "display_name": "Python 3 (ipykernel)",
   "language": "python",
   "name": "python3"
  },
  "language_info": {
   "codemirror_mode": {
    "name": "ipython",
    "version": 3
   },
   "file_extension": ".py",
   "mimetype": "text/x-python",
   "name": "python",
   "nbconvert_exporter": "python",
   "pygments_lexer": "ipython3",
   "version": "3.10.9"
  }
 },
 "nbformat": 4,
 "nbformat_minor": 5
}

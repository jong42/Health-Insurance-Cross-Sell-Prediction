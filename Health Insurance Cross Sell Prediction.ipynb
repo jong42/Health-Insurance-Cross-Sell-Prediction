{
 "cells": [
  {
   "cell_type": "markdown",
   "id": "9b0717be",
   "metadata": {},
   "source": [
    "# Health Insurance Cross Sell Prediction"
   ]
  },
  {
   "cell_type": "markdown",
   "id": "1c51123d",
   "metadata": {},
   "source": [
    "In this notebook, we will apply different Machine Learning methods to predict wether customers who hold a health insurance are also interested in taking a car insurance.\n",
    "\n",
    "For this purpose, we will use a dataset which is available on kaggle (https://www.kaggle.com/datasets/anmolkumar/health-insurance-cross-sell-prediction). It holds information about the customers in a csv file, as well as information about wether a customer is interested in a car insurance. The original dataset is already split into training and test data, however we will only use the training dataset here and treat it as if it was the complete dataset, since we do not have access to the target labels in the original test dataset.\n"
   ]
  },
  {
   "cell_type": "markdown",
   "id": "aa2bb2fb",
   "metadata": {},
   "source": [
    "## Libraries"
   ]
  },
  {
   "cell_type": "markdown",
   "id": "33979544",
   "metadata": {},
   "source": [
    "Before doing anything, we need to import the libraries needed for the task. We will use numpy and pandas, two standard libraries for working with data structures, as well as matplotlib for visualisation and sklearn for providing Machine Learning methods:"
   ]
  },
  {
   "cell_type": "code",
   "execution_count": 31,
   "id": "24c182ff",
   "metadata": {},
   "outputs": [],
   "source": [
    "import numpy as np\n",
    "import pandas as pd\n",
    "import matplotlib.pyplot as plt \n",
    "import sklearn \n",
    "\n",
    "from pandas.api.types import CategoricalDtype\n",
    "from sklearn.model_selection import train_test_split"
   ]
  },
  {
   "cell_type": "markdown",
   "id": "d923645b",
   "metadata": {},
   "source": [
    "## Loading the data"
   ]
  },
  {
   "cell_type": "markdown",
   "id": "a0a02de7",
   "metadata": {},
   "source": [
    "An important step in any Machine Learning task is cleaning the data and bringing it into the correct form. In this case, the data is conveniently stored in a single csv file which we can open as a pandas dataframe. The resulting dataframe contains 381109 rows and 12 columns:"
   ]
  },
  {
   "cell_type": "code",
   "execution_count": 33,
   "id": "707136d5",
   "metadata": {},
   "outputs": [
    {
     "data": {
      "text/plain": [
       "(381109, 12)"
      ]
     },
     "execution_count": 33,
     "metadata": {},
     "output_type": "execute_result"
    }
   ],
   "source": [
    "data_path = '/home/jonas/Desktop/health_insurance_cross_sell_prediction/data/data.csv'\n",
    "data = pd.read_csv(data_path)\n",
    "data.shape"
   ]
  },
  {
   "cell_type": "markdown",
   "id": "1e95025f",
   "metadata": {},
   "source": [
    "Let's have a look at the first rows of the dataframe and the data type of each column:"
   ]
  },
  {
   "cell_type": "code",
   "execution_count": 34,
   "id": "0807c653",
   "metadata": {},
   "outputs": [
    {
     "data": {
      "text/html": [
       "<div>\n",
       "<style scoped>\n",
       "    .dataframe tbody tr th:only-of-type {\n",
       "        vertical-align: middle;\n",
       "    }\n",
       "\n",
       "    .dataframe tbody tr th {\n",
       "        vertical-align: top;\n",
       "    }\n",
       "\n",
       "    .dataframe thead th {\n",
       "        text-align: right;\n",
       "    }\n",
       "</style>\n",
       "<table border=\"1\" class=\"dataframe\">\n",
       "  <thead>\n",
       "    <tr style=\"text-align: right;\">\n",
       "      <th></th>\n",
       "      <th>id</th>\n",
       "      <th>Gender</th>\n",
       "      <th>Age</th>\n",
       "      <th>Driving_License</th>\n",
       "      <th>Region_Code</th>\n",
       "      <th>Previously_Insured</th>\n",
       "      <th>Vehicle_Age</th>\n",
       "      <th>Vehicle_Damage</th>\n",
       "      <th>Annual_Premium</th>\n",
       "      <th>Policy_Sales_Channel</th>\n",
       "      <th>Vintage</th>\n",
       "      <th>Response</th>\n",
       "    </tr>\n",
       "  </thead>\n",
       "  <tbody>\n",
       "    <tr>\n",
       "      <th>0</th>\n",
       "      <td>1</td>\n",
       "      <td>Male</td>\n",
       "      <td>44</td>\n",
       "      <td>1</td>\n",
       "      <td>28.0</td>\n",
       "      <td>0</td>\n",
       "      <td>&gt; 2 Years</td>\n",
       "      <td>Yes</td>\n",
       "      <td>40454.0</td>\n",
       "      <td>26.0</td>\n",
       "      <td>217</td>\n",
       "      <td>1</td>\n",
       "    </tr>\n",
       "    <tr>\n",
       "      <th>1</th>\n",
       "      <td>2</td>\n",
       "      <td>Male</td>\n",
       "      <td>76</td>\n",
       "      <td>1</td>\n",
       "      <td>3.0</td>\n",
       "      <td>0</td>\n",
       "      <td>1-2 Year</td>\n",
       "      <td>No</td>\n",
       "      <td>33536.0</td>\n",
       "      <td>26.0</td>\n",
       "      <td>183</td>\n",
       "      <td>0</td>\n",
       "    </tr>\n",
       "    <tr>\n",
       "      <th>2</th>\n",
       "      <td>3</td>\n",
       "      <td>Male</td>\n",
       "      <td>47</td>\n",
       "      <td>1</td>\n",
       "      <td>28.0</td>\n",
       "      <td>0</td>\n",
       "      <td>&gt; 2 Years</td>\n",
       "      <td>Yes</td>\n",
       "      <td>38294.0</td>\n",
       "      <td>26.0</td>\n",
       "      <td>27</td>\n",
       "      <td>1</td>\n",
       "    </tr>\n",
       "    <tr>\n",
       "      <th>3</th>\n",
       "      <td>4</td>\n",
       "      <td>Male</td>\n",
       "      <td>21</td>\n",
       "      <td>1</td>\n",
       "      <td>11.0</td>\n",
       "      <td>1</td>\n",
       "      <td>&lt; 1 Year</td>\n",
       "      <td>No</td>\n",
       "      <td>28619.0</td>\n",
       "      <td>152.0</td>\n",
       "      <td>203</td>\n",
       "      <td>0</td>\n",
       "    </tr>\n",
       "    <tr>\n",
       "      <th>4</th>\n",
       "      <td>5</td>\n",
       "      <td>Female</td>\n",
       "      <td>29</td>\n",
       "      <td>1</td>\n",
       "      <td>41.0</td>\n",
       "      <td>1</td>\n",
       "      <td>&lt; 1 Year</td>\n",
       "      <td>No</td>\n",
       "      <td>27496.0</td>\n",
       "      <td>152.0</td>\n",
       "      <td>39</td>\n",
       "      <td>0</td>\n",
       "    </tr>\n",
       "  </tbody>\n",
       "</table>\n",
       "</div>"
      ],
      "text/plain": [
       "   id  Gender  Age  Driving_License  Region_Code  Previously_Insured  \\\n",
       "0   1    Male   44                1         28.0                   0   \n",
       "1   2    Male   76                1          3.0                   0   \n",
       "2   3    Male   47                1         28.0                   0   \n",
       "3   4    Male   21                1         11.0                   1   \n",
       "4   5  Female   29                1         41.0                   1   \n",
       "\n",
       "  Vehicle_Age Vehicle_Damage  Annual_Premium  Policy_Sales_Channel  Vintage  \\\n",
       "0   > 2 Years            Yes         40454.0                  26.0      217   \n",
       "1    1-2 Year             No         33536.0                  26.0      183   \n",
       "2   > 2 Years            Yes         38294.0                  26.0       27   \n",
       "3    < 1 Year             No         28619.0                 152.0      203   \n",
       "4    < 1 Year             No         27496.0                 152.0       39   \n",
       "\n",
       "   Response  \n",
       "0         1  \n",
       "1         0  \n",
       "2         1  \n",
       "3         0  \n",
       "4         0  "
      ]
     },
     "execution_count": 34,
     "metadata": {},
     "output_type": "execute_result"
    }
   ],
   "source": [
    "data.head()"
   ]
  },
  {
   "cell_type": "code",
   "execution_count": 35,
   "id": "66cbc079",
   "metadata": {},
   "outputs": [
    {
     "data": {
      "text/plain": [
       "id                        int64\n",
       "Gender                   object\n",
       "Age                       int64\n",
       "Driving_License           int64\n",
       "Region_Code             float64\n",
       "Previously_Insured        int64\n",
       "Vehicle_Age              object\n",
       "Vehicle_Damage           object\n",
       "Annual_Premium          float64\n",
       "Policy_Sales_Channel    float64\n",
       "Vintage                   int64\n",
       "Response                  int64\n",
       "dtype: object"
      ]
     },
     "execution_count": 35,
     "metadata": {},
     "output_type": "execute_result"
    }
   ],
   "source": [
    "data.dtypes"
   ]
  },
  {
   "cell_type": "markdown",
   "id": "fce3236c",
   "metadata": {},
   "source": [
    "## Data Cleaning"
   ]
  },
  {
   "cell_type": "markdown",
   "id": "ae12e2d5",
   "metadata": {},
   "source": [
    "In the data description on the kaggle website the meaning of the individual columns is explained. Our task is to predict the variable 'Response', which is a binary variable indicating if a customer is interested in taking a car insurance or not. Some of the variables are not encoded correctly yet. We will now adjust the encoding of those variables so that they are better suitable for Machine Learning purposes:"
   ]
  },
  {
   "cell_type": "markdown",
   "id": "48b78288",
   "metadata": {},
   "source": [
    "Starting with the 'Gender' column, it is currently encoded as a string, however for the purposes of Machine Learning it would be more practicable as a numeric variable. Thus we change the type and values of the column accordingly:"
   ]
  },
  {
   "cell_type": "code",
   "execution_count": 22,
   "id": "5893e481",
   "metadata": {},
   "outputs": [],
   "source": [
    "data['Gender'] = data['Gender'].map({'Male': 0, 'Female': 1})"
   ]
  },
  {
   "cell_type": "markdown",
   "id": "38afc449",
   "metadata": {},
   "source": [
    "The 'Region Code' column holds an identifier for the customer's location. Treating it as a numerical variable would be unreasonable since it is not a quantitative measure. This variable is better represented as a string:"
   ]
  },
  {
   "cell_type": "code",
   "execution_count": 36,
   "id": "8b9ebf89",
   "metadata": {},
   "outputs": [],
   "source": [
    "data['Region_Code'] = data['Region_Code'].astype(str)"
   ]
  },
  {
   "cell_type": "markdown",
   "id": "bfffd2c2",
   "metadata": {},
   "source": [
    "The age of a customer's vehicle would be useful as a numerical value. However in this case, we only have the information wether the car is less than one year, between one and two years, or more than two years old. "
   ]
  },
  {
   "cell_type": "code",
   "execution_count": 37,
   "id": "b39084d3",
   "metadata": {},
   "outputs": [
    {
     "data": {
      "text/plain": [
       "array(['1-2 Year', '< 1 Year', '> 2 Years'], dtype=object)"
      ]
     },
     "execution_count": 37,
     "metadata": {},
     "output_type": "execute_result"
    }
   ],
   "source": [
    "np.unique(data['Vehicle_Age'])"
   ]
  },
  {
   "cell_type": "markdown",
   "id": "e59aab4a",
   "metadata": {},
   "source": [
    "We cannot reasonably transform these into numerical values, however leaving them as strings would mean losing information. Instead, we can use the categorical datatype to preserve the ordering between values:"
   ]
  },
  {
   "cell_type": "code",
   "execution_count": 25,
   "id": "90abde61",
   "metadata": {},
   "outputs": [],
   "source": [
    "cat_type = CategoricalDtype(categories=['< 1 Year', '1-2 Year', '> 2 Years'], ordered=True)\n",
    "data['Vehicle_Age'] = data['Vehicle_Age'].astype(cat_type)"
   ]
  },
  {
   "cell_type": "markdown",
   "id": "8af87c10",
   "metadata": {},
   "source": [
    "Same as for the  gender information, the 'Vehicle Damage' column indicating if a car was damaged in the past is better suited in numerical form:"
   ]
  },
  {
   "cell_type": "code",
   "execution_count": 38,
   "id": "33efcf90",
   "metadata": {},
   "outputs": [],
   "source": [
    "data['Vehicle_Damage'] = data['Vehicle_Damage'].map({'No': 0, 'Yes': 1})"
   ]
  },
  {
   "cell_type": "markdown",
   "id": "59ab1cfe",
   "metadata": {},
   "source": [
    "Same as for the regional code, the 'Policy_Sales_Channel' column is an identifier rather than a quantitative measure, ans hould therefore be changed to a string:"
   ]
  },
  {
   "cell_type": "code",
   "execution_count": 39,
   "id": "2a004f02",
   "metadata": {},
   "outputs": [],
   "source": [
    "data['Policy_Sales_Channel'] = data['Policy_Sales_Channel'].astype(str)"
   ]
  },
  {
   "cell_type": "markdown",
   "id": "7d12c9ba",
   "metadata": {},
   "source": [
    "Having performed the necessary data cleaning steps, our dataset now looks like this:"
   ]
  },
  {
   "cell_type": "code",
   "execution_count": 28,
   "id": "3a3d3117",
   "metadata": {},
   "outputs": [
    {
     "data": {
      "text/html": [
       "<div>\n",
       "<style scoped>\n",
       "    .dataframe tbody tr th:only-of-type {\n",
       "        vertical-align: middle;\n",
       "    }\n",
       "\n",
       "    .dataframe tbody tr th {\n",
       "        vertical-align: top;\n",
       "    }\n",
       "\n",
       "    .dataframe thead th {\n",
       "        text-align: right;\n",
       "    }\n",
       "</style>\n",
       "<table border=\"1\" class=\"dataframe\">\n",
       "  <thead>\n",
       "    <tr style=\"text-align: right;\">\n",
       "      <th></th>\n",
       "      <th>id</th>\n",
       "      <th>Gender</th>\n",
       "      <th>Age</th>\n",
       "      <th>Driving_License</th>\n",
       "      <th>Region_Code</th>\n",
       "      <th>Previously_Insured</th>\n",
       "      <th>Vehicle_Age</th>\n",
       "      <th>Vehicle_Damage</th>\n",
       "      <th>Annual_Premium</th>\n",
       "      <th>Policy_Sales_Channel</th>\n",
       "      <th>Vintage</th>\n",
       "      <th>Response</th>\n",
       "    </tr>\n",
       "  </thead>\n",
       "  <tbody>\n",
       "    <tr>\n",
       "      <th>0</th>\n",
       "      <td>1</td>\n",
       "      <td>0</td>\n",
       "      <td>44</td>\n",
       "      <td>1</td>\n",
       "      <td>28.0</td>\n",
       "      <td>0</td>\n",
       "      <td>&gt; 2 Years</td>\n",
       "      <td>1</td>\n",
       "      <td>40454.0</td>\n",
       "      <td>26.0</td>\n",
       "      <td>217</td>\n",
       "      <td>1</td>\n",
       "    </tr>\n",
       "    <tr>\n",
       "      <th>1</th>\n",
       "      <td>2</td>\n",
       "      <td>0</td>\n",
       "      <td>76</td>\n",
       "      <td>1</td>\n",
       "      <td>3.0</td>\n",
       "      <td>0</td>\n",
       "      <td>1-2 Year</td>\n",
       "      <td>0</td>\n",
       "      <td>33536.0</td>\n",
       "      <td>26.0</td>\n",
       "      <td>183</td>\n",
       "      <td>0</td>\n",
       "    </tr>\n",
       "    <tr>\n",
       "      <th>2</th>\n",
       "      <td>3</td>\n",
       "      <td>0</td>\n",
       "      <td>47</td>\n",
       "      <td>1</td>\n",
       "      <td>28.0</td>\n",
       "      <td>0</td>\n",
       "      <td>&gt; 2 Years</td>\n",
       "      <td>1</td>\n",
       "      <td>38294.0</td>\n",
       "      <td>26.0</td>\n",
       "      <td>27</td>\n",
       "      <td>1</td>\n",
       "    </tr>\n",
       "    <tr>\n",
       "      <th>3</th>\n",
       "      <td>4</td>\n",
       "      <td>0</td>\n",
       "      <td>21</td>\n",
       "      <td>1</td>\n",
       "      <td>11.0</td>\n",
       "      <td>1</td>\n",
       "      <td>&lt; 1 Year</td>\n",
       "      <td>0</td>\n",
       "      <td>28619.0</td>\n",
       "      <td>152.0</td>\n",
       "      <td>203</td>\n",
       "      <td>0</td>\n",
       "    </tr>\n",
       "    <tr>\n",
       "      <th>4</th>\n",
       "      <td>5</td>\n",
       "      <td>1</td>\n",
       "      <td>29</td>\n",
       "      <td>1</td>\n",
       "      <td>41.0</td>\n",
       "      <td>1</td>\n",
       "      <td>&lt; 1 Year</td>\n",
       "      <td>0</td>\n",
       "      <td>27496.0</td>\n",
       "      <td>152.0</td>\n",
       "      <td>39</td>\n",
       "      <td>0</td>\n",
       "    </tr>\n",
       "  </tbody>\n",
       "</table>\n",
       "</div>"
      ],
      "text/plain": [
       "   id  Gender  Age  Driving_License Region_Code  Previously_Insured  \\\n",
       "0   1       0   44                1        28.0                   0   \n",
       "1   2       0   76                1         3.0                   0   \n",
       "2   3       0   47                1        28.0                   0   \n",
       "3   4       0   21                1        11.0                   1   \n",
       "4   5       1   29                1        41.0                   1   \n",
       "\n",
       "  Vehicle_Age  Vehicle_Damage  Annual_Premium Policy_Sales_Channel  Vintage  \\\n",
       "0   > 2 Years               1         40454.0                 26.0      217   \n",
       "1    1-2 Year               0         33536.0                 26.0      183   \n",
       "2   > 2 Years               1         38294.0                 26.0       27   \n",
       "3    < 1 Year               0         28619.0                152.0      203   \n",
       "4    < 1 Year               0         27496.0                152.0       39   \n",
       "\n",
       "   Response  \n",
       "0         1  \n",
       "1         0  \n",
       "2         1  \n",
       "3         0  \n",
       "4         0  "
      ]
     },
     "execution_count": 28,
     "metadata": {},
     "output_type": "execute_result"
    }
   ],
   "source": [
    "data.head()"
   ]
  },
  {
   "cell_type": "code",
   "execution_count": 29,
   "id": "5953506c",
   "metadata": {},
   "outputs": [
    {
     "data": {
      "text/plain": [
       "id                         int64\n",
       "Gender                     int64\n",
       "Age                        int64\n",
       "Driving_License            int64\n",
       "Region_Code               object\n",
       "Previously_Insured         int64\n",
       "Vehicle_Age             category\n",
       "Vehicle_Damage             int64\n",
       "Annual_Premium           float64\n",
       "Policy_Sales_Channel      object\n",
       "Vintage                    int64\n",
       "Response                   int64\n",
       "dtype: object"
      ]
     },
     "execution_count": 29,
     "metadata": {},
     "output_type": "execute_result"
    }
   ],
   "source": [
    "data.dtypes"
   ]
  },
  {
   "cell_type": "markdown",
   "id": "8fe8004a",
   "metadata": {},
   "source": [
    "## Splitting into training and test set"
   ]
  },
  {
   "cell_type": "code",
   "execution_count": 30,
   "id": "9e9c5042",
   "metadata": {},
   "outputs": [
    {
     "name": "stdout",
     "output_type": "stream",
     "text": [
      "(304887, 12)\n",
      "(76222, 12)\n"
     ]
    }
   ],
   "source": [
    "\n",
    "\n",
    "d_train, d_test = sklearn.model_selection.train_test_split(data, test_size=0.2)\n",
    "\n",
    "print(d_train.shape)\n",
    "print(d_test.shape)"
   ]
  },
  {
   "cell_type": "markdown",
   "id": "76b64322",
   "metadata": {},
   "source": [
    "## Exploratory Analysis"
   ]
  },
  {
   "cell_type": "markdown",
   "id": "b87e900c",
   "metadata": {},
   "source": []
  },
  {
   "cell_type": "markdown",
   "id": "c20eed1a",
   "metadata": {},
   "source": [
    "## Apply ML methods"
   ]
  },
  {
   "cell_type": "markdown",
   "id": "4938cb96",
   "metadata": {},
   "source": []
  },
  {
   "cell_type": "code",
   "execution_count": null,
   "id": "f1f2e8bb",
   "metadata": {},
   "outputs": [],
   "source": []
  }
 ],
 "metadata": {
  "kernelspec": {
   "display_name": "Python 3 (ipykernel)",
   "language": "python",
   "name": "python3"
  },
  "language_info": {
   "codemirror_mode": {
    "name": "ipython",
    "version": 3
   },
   "file_extension": ".py",
   "mimetype": "text/x-python",
   "name": "python",
   "nbconvert_exporter": "python",
   "pygments_lexer": "ipython3",
   "version": "3.10.9"
  }
 },
 "nbformat": 4,
 "nbformat_minor": 5
}
